{
 "cells": [
  {
   "cell_type": "markdown",
   "source": [
    "# 1. 선형/비선형 여부는 독립 변수가 한 개인지 여러개인지에 따라 나뉜다.\r\n",
    "## (O/X 문제, 답에 대한 이유를 적으시오)\r\n"
   ],
   "metadata": {}
  },
  {
   "cell_type": "markdown",
   "source": [
    "X \\n\r\n",
    "회귀 계수의 선형 여부에 따라 선형/비선형 여부를 나눔. \\n\r\n",
    "독립 변수 한 개 : 단일 회귀, 독립 변수 두 개 : 다중 회귀"
   ],
   "metadata": {}
  },
  {
   "cell_type": "markdown",
   "source": [
    "# 2. RSS 에 간략하게 적으시오"
   ],
   "metadata": {}
  },
  {
   "cell_type": "markdown",
   "source": [
    "RSS(Residual Sum of Square) : 오류 값(실제 값과 회귀 모델의 차이)의 제곱을 구해서 더하는 방식\r\n"
   ],
   "metadata": {}
  },
  {
   "cell_type": "markdown",
   "source": [
    "# 3. RSS는 회귀식의 독립변수 X, 종속변수Y 가 중심변수이다.\r\n",
    "## (O/X 문제, 답에 대한 이유를 적으시오)"
   ],
   "metadata": {}
  },
  {
   "cell_type": "markdown",
   "source": [
    "X \\n\r\n",
    "회귀 계수가 중심 변수"
   ],
   "metadata": {}
  },
  {
   "cell_type": "markdown",
   "source": [
    "# 4. 최적의 회귀 모델을 만든다는 것의 의미를 적으시오"
   ],
   "metadata": {}
  },
  {
   "cell_type": "markdown",
   "source": [
    "오류 값 합이 최소가 되는 모델을 만드는 것 \\n\r\n",
    "오류 값 합이 최소가 될 수 있는 최적의 회귀 계수를 찾는 것"
   ],
   "metadata": {}
  },
  {
   "cell_type": "markdown",
   "source": [
    "# 5. 머신러닝 회귀 예측의 핵심은?"
   ],
   "metadata": {}
  },
  {
   "cell_type": "markdown",
   "source": [
    "주어진 피처와 결정 값 데이터 기반에서 학습을 통해 최적의 회귀 계수를 찾아내는 것"
   ],
   "metadata": {}
  },
  {
   "cell_type": "markdown",
   "source": [
    "# 6. 경사 하강법의 핵심과 원리를 간략하게 적으시오"
   ],
   "metadata": {}
  },
  {
   "cell_type": "markdown",
   "source": [
    "어떻게 하면 오류가 작아지는 방향으로 회귀 계수를 보정할 수 있을까? \\n\r\n",
    "1. 임의의 회귀 계수를 설정하고 첫 비용 함수 값 계산 \\n\r\n",
    "2. 위의 결과 값을 통해 회귀 계수의 값을 업데이트하고 다시 비용 함수 값 계산 \\n\r\n",
    "3. 비용 함수 값이 더 이상 감소하지 않을 때가지 반복 후, 비용 함수 값이 감소하지 않으면 중지. "
   ],
   "metadata": {}
  },
  {
   "cell_type": "markdown",
   "source": [
    "# 7. 다중공선성 문제의 정의와 해결방법을 적으시오"
   ],
   "metadata": {}
  },
  {
   "cell_type": "markdown",
   "source": [
    "피처간의 상관관계가 매우 높은 경우 분산이 매우 커져 오류에 민감해지는 문제 \\n\r\n",
    "일반적으로 독립적인 중요 피처만 남기고 제거하거나 규제(Regularization) 적용 \\n\r\n",
    "매우 많은 피처가 다중 공선성 문제를 가지고 있다면 PCA를 통해 차원 축소"
   ],
   "metadata": {}
  },
  {
   "cell_type": "markdown",
   "source": [
    "# 8. 회귀 평가 지표 4가지를 간략하게 적으시오"
   ],
   "metadata": {}
  },
  {
   "cell_type": "markdown",
   "source": [
    "MAE : 실제 값과 예측값 차이 절대값의 평균 \\n\r\n",
    "MSE : 실제 값과 예측값 차이 제곱의 평균 \\n\r\n",
    "RMSE : MSE에 루트를 씌운 것 \\n\r\n",
    "R^2 : 예측값 분산/실제 값 분산"
   ],
   "metadata": {}
  },
  {
   "cell_type": "markdown",
   "source": [
    "# 9. neg_mean_absolute_error 가 음수값을 반환하는 이유를 적으시오."
   ],
   "metadata": {}
  },
  {
   "cell_type": "markdown",
   "source": [
    "사이킷런의 Scoring 함수가 score값이 클수록 좋은 평가 결과로 평가. MAE는 값이 클수록 나쁜 모델을 의미하므로 -1을 곱해 음수를 만들어 숫자를 작게 만들기위해"
   ],
   "metadata": {}
  },
  {
   "cell_type": "markdown",
   "source": [
    "# 10. 차수와 편향과 분산, 과소적합, 과적합들의 관계를 적으시오"
   ],
   "metadata": {}
  },
  {
   "cell_type": "markdown",
   "source": [
    "차수(degree)를 높일수록 학습데이터에만 맞춰진 학습이 이뤄져 과적합 문제 발생, 지나치게 높은 변동성(고분산) \\n\r\n",
    "차수를 낮출수록 예측 곡선이 학습 데이터의 패턴을 제대로 반영하지 못해 과소적합 문제 발생, 지나치게 한 방향성으로 치우침(고편향) \\n\r\n",
    "고편향/저분산에서 과소적합되기 쉽고, 저편향/고분산에서 과적합되기 쉽다"
   ],
   "metadata": {}
  },
  {
   "cell_type": "markdown",
   "source": [
    "# 11. 회귀 계수의 크기를 제어하고 RSS 최소화 방법을 사용하는 비용함수의 목표를 적으시오"
   ],
   "metadata": {}
  },
  {
   "cell_type": "markdown",
   "source": [
    "RSS+alpha*회귀 계수를 최소화하는 회귀 계수 벡터를 찾는 것"
   ],
   "metadata": {}
  },
  {
   "cell_type": "markdown",
   "source": [
    "# 12. 릿지 회귀는 alpha 값이 커질수록 회귀 계수를 작게 만든다.\r\n",
    "## (O/X 문제, 답에 대한 이유를 적으시오)"
   ],
   "metadata": {}
  },
  {
   "cell_type": "markdown",
   "source": [
    "O \\n\r\n",
    "alpha가 증가할수록 비용 함수 식은 RSS에 비해 alpha*회귀 계수가 매우 커지므로 비용 함수 목표를 달성하기 위해 회귀 계수를 작게 만든다"
   ],
   "metadata": {}
  },
  {
   "cell_type": "markdown",
   "source": [
    "# 13. 로지스틱 함수는 선형 회귀방식을 따르고 회귀 최적선을 찾는다.\r\n",
    "## (O/X 문제, 답에 대한 이유를 적으시오)"
   ],
   "metadata": {}
  },
  {
   "cell_type": "markdown",
   "source": [
    "X \\n\r\n",
    "Sigmoid 함수 최적선을 찾고 이 Sigmoid 함수의 반환 값을 확률로 간주해 확률에 따라 분류를 결정 \\n\r\n",
    "Sigmoid 함수를 이용하면 좀 더 정확하게 0과 1에 대해 분류 할 수 있다"
   ],
   "metadata": {}
  },
  {
   "cell_type": "markdown",
   "source": [
    "# 14. 중고차 가격 예측 회귀 실습 (밑의 순서대로 진행할것)\r\n"
   ],
   "metadata": {}
  },
  {
   "cell_type": "markdown",
   "source": [
    "## 1. 데이터 전처리"
   ],
   "metadata": {}
  },
  {
   "cell_type": "code",
   "execution_count": 4,
   "source": [
    "import numpy as np\r\n",
    "import pandas as pd\r\n",
    "import warnings\r\n",
    "warnings.filterwarnings(\"ignore\", category=RuntimeWarning)\r\n",
    "\r\n",
    "car_df=pd.read_csv('./used_car_train-data.csv')\r\n",
    "car_df.head(3)"
   ],
   "outputs": [
    {
     "output_type": "execute_result",
     "data": {
      "text/html": [
       "<div>\n",
       "<style scoped>\n",
       "    .dataframe tbody tr th:only-of-type {\n",
       "        vertical-align: middle;\n",
       "    }\n",
       "\n",
       "    .dataframe tbody tr th {\n",
       "        vertical-align: top;\n",
       "    }\n",
       "\n",
       "    .dataframe thead th {\n",
       "        text-align: right;\n",
       "    }\n",
       "</style>\n",
       "<table border=\"1\" class=\"dataframe\">\n",
       "  <thead>\n",
       "    <tr style=\"text-align: right;\">\n",
       "      <th></th>\n",
       "      <th>Unnamed: 0</th>\n",
       "      <th>Name</th>\n",
       "      <th>Location</th>\n",
       "      <th>Year</th>\n",
       "      <th>Kilometers_Driven</th>\n",
       "      <th>Fuel_Type</th>\n",
       "      <th>Transmission</th>\n",
       "      <th>Owner_Type</th>\n",
       "      <th>Mileage</th>\n",
       "      <th>Engine</th>\n",
       "      <th>Power</th>\n",
       "      <th>Seats</th>\n",
       "      <th>New_Price</th>\n",
       "      <th>Price</th>\n",
       "    </tr>\n",
       "  </thead>\n",
       "  <tbody>\n",
       "    <tr>\n",
       "      <th>0</th>\n",
       "      <td>0</td>\n",
       "      <td>Maruti Wagon R LXI CNG</td>\n",
       "      <td>Mumbai</td>\n",
       "      <td>2010</td>\n",
       "      <td>72000</td>\n",
       "      <td>CNG</td>\n",
       "      <td>Manual</td>\n",
       "      <td>First</td>\n",
       "      <td>26.6 km/kg</td>\n",
       "      <td>998 CC</td>\n",
       "      <td>58.16 bhp</td>\n",
       "      <td>5.0</td>\n",
       "      <td>NaN</td>\n",
       "      <td>1.75</td>\n",
       "    </tr>\n",
       "    <tr>\n",
       "      <th>1</th>\n",
       "      <td>1</td>\n",
       "      <td>Hyundai Creta 1.6 CRDi SX Option</td>\n",
       "      <td>Pune</td>\n",
       "      <td>2015</td>\n",
       "      <td>41000</td>\n",
       "      <td>Diesel</td>\n",
       "      <td>Manual</td>\n",
       "      <td>First</td>\n",
       "      <td>19.67 kmpl</td>\n",
       "      <td>1582 CC</td>\n",
       "      <td>126.2 bhp</td>\n",
       "      <td>5.0</td>\n",
       "      <td>NaN</td>\n",
       "      <td>12.50</td>\n",
       "    </tr>\n",
       "    <tr>\n",
       "      <th>2</th>\n",
       "      <td>2</td>\n",
       "      <td>Honda Jazz V</td>\n",
       "      <td>Chennai</td>\n",
       "      <td>2011</td>\n",
       "      <td>46000</td>\n",
       "      <td>Petrol</td>\n",
       "      <td>Manual</td>\n",
       "      <td>First</td>\n",
       "      <td>18.2 kmpl</td>\n",
       "      <td>1199 CC</td>\n",
       "      <td>88.7 bhp</td>\n",
       "      <td>5.0</td>\n",
       "      <td>8.61 Lakh</td>\n",
       "      <td>4.50</td>\n",
       "    </tr>\n",
       "  </tbody>\n",
       "</table>\n",
       "</div>"
      ],
      "text/plain": [
       "   Unnamed: 0                              Name Location  Year  \\\n",
       "0           0            Maruti Wagon R LXI CNG   Mumbai  2010   \n",
       "1           1  Hyundai Creta 1.6 CRDi SX Option     Pune  2015   \n",
       "2           2                      Honda Jazz V  Chennai  2011   \n",
       "\n",
       "   Kilometers_Driven Fuel_Type Transmission Owner_Type     Mileage   Engine  \\\n",
       "0              72000       CNG       Manual      First  26.6 km/kg   998 CC   \n",
       "1              41000    Diesel       Manual      First  19.67 kmpl  1582 CC   \n",
       "2              46000    Petrol       Manual      First   18.2 kmpl  1199 CC   \n",
       "\n",
       "       Power  Seats  New_Price  Price  \n",
       "0  58.16 bhp    5.0        NaN   1.75  \n",
       "1  126.2 bhp    5.0        NaN  12.50  \n",
       "2   88.7 bhp    5.0  8.61 Lakh   4.50  "
      ]
     },
     "metadata": {},
     "execution_count": 4
    }
   ],
   "metadata": {}
  },
  {
   "cell_type": "code",
   "execution_count": 5,
   "source": [
    "car_df.info()"
   ],
   "outputs": [
    {
     "output_type": "stream",
     "name": "stdout",
     "text": [
      "<class 'pandas.core.frame.DataFrame'>\n",
      "RangeIndex: 6019 entries, 0 to 6018\n",
      "Data columns (total 14 columns):\n",
      " #   Column             Non-Null Count  Dtype  \n",
      "---  ------             --------------  -----  \n",
      " 0   Unnamed: 0         6019 non-null   int64  \n",
      " 1   Name               6019 non-null   object \n",
      " 2   Location           6019 non-null   object \n",
      " 3   Year               6019 non-null   int64  \n",
      " 4   Kilometers_Driven  6019 non-null   int64  \n",
      " 5   Fuel_Type          6019 non-null   object \n",
      " 6   Transmission       6019 non-null   object \n",
      " 7   Owner_Type         6019 non-null   object \n",
      " 8   Mileage            6017 non-null   object \n",
      " 9   Engine             5983 non-null   object \n",
      " 10  Power              5983 non-null   object \n",
      " 11  Seats              5977 non-null   float64\n",
      " 12  New_Price          824 non-null    object \n",
      " 13  Price              6019 non-null   float64\n",
      "dtypes: float64(2), int64(3), object(9)\n",
      "memory usage: 658.5+ KB\n"
     ]
    }
   ],
   "metadata": {}
  },
  {
   "cell_type": "markdown",
   "source": [
    "### (1) Year를 datetime 형식으로 변환하기"
   ],
   "metadata": {}
  },
  {
   "cell_type": "code",
   "execution_count": null,
   "source": [],
   "outputs": [],
   "metadata": {}
  },
  {
   "cell_type": "markdown",
   "source": [
    "### (2) 'Unnamed: 0','New_Price', 'Transmission', 'Engine', 'Seats', 'Power' 칼럼 삭제하기"
   ],
   "metadata": {}
  },
  {
   "cell_type": "code",
   "execution_count": 7,
   "source": [
    "car_df.drop(['Unnamed: 0', 'New_Price', 'Transmission', 'Engine', 'Seats', 'Power'], axis=1, inplace=True)"
   ],
   "outputs": [],
   "metadata": {}
  },
  {
   "cell_type": "code",
   "execution_count": 8,
   "source": [
    "car_df.head(3)"
   ],
   "outputs": [
    {
     "output_type": "execute_result",
     "data": {
      "text/html": [
       "<div>\n",
       "<style scoped>\n",
       "    .dataframe tbody tr th:only-of-type {\n",
       "        vertical-align: middle;\n",
       "    }\n",
       "\n",
       "    .dataframe tbody tr th {\n",
       "        vertical-align: top;\n",
       "    }\n",
       "\n",
       "    .dataframe thead th {\n",
       "        text-align: right;\n",
       "    }\n",
       "</style>\n",
       "<table border=\"1\" class=\"dataframe\">\n",
       "  <thead>\n",
       "    <tr style=\"text-align: right;\">\n",
       "      <th></th>\n",
       "      <th>Name</th>\n",
       "      <th>Location</th>\n",
       "      <th>Year</th>\n",
       "      <th>Kilometers_Driven</th>\n",
       "      <th>Fuel_Type</th>\n",
       "      <th>Owner_Type</th>\n",
       "      <th>Mileage</th>\n",
       "      <th>Price</th>\n",
       "    </tr>\n",
       "  </thead>\n",
       "  <tbody>\n",
       "    <tr>\n",
       "      <th>0</th>\n",
       "      <td>Maruti Wagon R LXI CNG</td>\n",
       "      <td>Mumbai</td>\n",
       "      <td>2010</td>\n",
       "      <td>72000</td>\n",
       "      <td>CNG</td>\n",
       "      <td>First</td>\n",
       "      <td>26.6 km/kg</td>\n",
       "      <td>1.75</td>\n",
       "    </tr>\n",
       "    <tr>\n",
       "      <th>1</th>\n",
       "      <td>Hyundai Creta 1.6 CRDi SX Option</td>\n",
       "      <td>Pune</td>\n",
       "      <td>2015</td>\n",
       "      <td>41000</td>\n",
       "      <td>Diesel</td>\n",
       "      <td>First</td>\n",
       "      <td>19.67 kmpl</td>\n",
       "      <td>12.50</td>\n",
       "    </tr>\n",
       "    <tr>\n",
       "      <th>2</th>\n",
       "      <td>Honda Jazz V</td>\n",
       "      <td>Chennai</td>\n",
       "      <td>2011</td>\n",
       "      <td>46000</td>\n",
       "      <td>Petrol</td>\n",
       "      <td>First</td>\n",
       "      <td>18.2 kmpl</td>\n",
       "      <td>4.50</td>\n",
       "    </tr>\n",
       "  </tbody>\n",
       "</table>\n",
       "</div>"
      ],
      "text/plain": [
       "                               Name Location  Year  Kilometers_Driven  \\\n",
       "0            Maruti Wagon R LXI CNG   Mumbai  2010              72000   \n",
       "1  Hyundai Creta 1.6 CRDi SX Option     Pune  2015              41000   \n",
       "2                      Honda Jazz V  Chennai  2011              46000   \n",
       "\n",
       "  Fuel_Type Owner_Type     Mileage  Price  \n",
       "0       CNG      First  26.6 km/kg   1.75  \n",
       "1    Diesel      First  19.67 kmpl  12.50  \n",
       "2    Petrol      First   18.2 kmpl   4.50  "
      ]
     },
     "metadata": {},
     "execution_count": 8
    }
   ],
   "metadata": {}
  },
  {
   "cell_type": "code",
   "execution_count": 9,
   "source": [
    "names = list(car_df['Name'])\r\n",
    "mileage = list(car_df['Mileage'])\r\n",
    "\r\n",
    "for i in range(len(names)):\r\n",
    "    names[i]=names[i].split(' ', 1)[0]\r\n",
    "car_df['Name']=names\r\n",
    "\r\n",
    "for i in range(len(mileage)):\r\n",
    "    mileage[i]=str(mileage[i]).split(' ')[0]\r\n",
    "car_df['Mileage']=mileage\r\n",
    "\r\n",
    "car_df.head(3)"
   ],
   "outputs": [
    {
     "output_type": "execute_result",
     "data": {
      "text/html": [
       "<div>\n",
       "<style scoped>\n",
       "    .dataframe tbody tr th:only-of-type {\n",
       "        vertical-align: middle;\n",
       "    }\n",
       "\n",
       "    .dataframe tbody tr th {\n",
       "        vertical-align: top;\n",
       "    }\n",
       "\n",
       "    .dataframe thead th {\n",
       "        text-align: right;\n",
       "    }\n",
       "</style>\n",
       "<table border=\"1\" class=\"dataframe\">\n",
       "  <thead>\n",
       "    <tr style=\"text-align: right;\">\n",
       "      <th></th>\n",
       "      <th>Name</th>\n",
       "      <th>Location</th>\n",
       "      <th>Year</th>\n",
       "      <th>Kilometers_Driven</th>\n",
       "      <th>Fuel_Type</th>\n",
       "      <th>Owner_Type</th>\n",
       "      <th>Mileage</th>\n",
       "      <th>Price</th>\n",
       "    </tr>\n",
       "  </thead>\n",
       "  <tbody>\n",
       "    <tr>\n",
       "      <th>0</th>\n",
       "      <td>Maruti</td>\n",
       "      <td>Mumbai</td>\n",
       "      <td>2010</td>\n",
       "      <td>72000</td>\n",
       "      <td>CNG</td>\n",
       "      <td>First</td>\n",
       "      <td>26.6</td>\n",
       "      <td>1.75</td>\n",
       "    </tr>\n",
       "    <tr>\n",
       "      <th>1</th>\n",
       "      <td>Hyundai</td>\n",
       "      <td>Pune</td>\n",
       "      <td>2015</td>\n",
       "      <td>41000</td>\n",
       "      <td>Diesel</td>\n",
       "      <td>First</td>\n",
       "      <td>19.67</td>\n",
       "      <td>12.50</td>\n",
       "    </tr>\n",
       "    <tr>\n",
       "      <th>2</th>\n",
       "      <td>Honda</td>\n",
       "      <td>Chennai</td>\n",
       "      <td>2011</td>\n",
       "      <td>46000</td>\n",
       "      <td>Petrol</td>\n",
       "      <td>First</td>\n",
       "      <td>18.2</td>\n",
       "      <td>4.50</td>\n",
       "    </tr>\n",
       "  </tbody>\n",
       "</table>\n",
       "</div>"
      ],
      "text/plain": [
       "      Name Location  Year  Kilometers_Driven Fuel_Type Owner_Type Mileage  \\\n",
       "0   Maruti   Mumbai  2010              72000       CNG      First    26.6   \n",
       "1  Hyundai     Pune  2015              41000    Diesel      First   19.67   \n",
       "2    Honda  Chennai  2011              46000    Petrol      First    18.2   \n",
       "\n",
       "   Price  \n",
       "0   1.75  \n",
       "1  12.50  \n",
       "2   4.50  "
      ]
     },
     "metadata": {},
     "execution_count": 9
    }
   ],
   "metadata": {}
  },
  {
   "cell_type": "markdown",
   "source": [
    "### (3) Price, Kilometers_Driven, Mileage float 형으로 변환하기"
   ],
   "metadata": {}
  },
  {
   "cell_type": "code",
   "execution_count": 10,
   "source": [
    "car_df.info()"
   ],
   "outputs": [
    {
     "output_type": "stream",
     "name": "stdout",
     "text": [
      "<class 'pandas.core.frame.DataFrame'>\n",
      "RangeIndex: 6019 entries, 0 to 6018\n",
      "Data columns (total 8 columns):\n",
      " #   Column             Non-Null Count  Dtype  \n",
      "---  ------             --------------  -----  \n",
      " 0   Name               6019 non-null   object \n",
      " 1   Location           6019 non-null   object \n",
      " 2   Year               6019 non-null   int64  \n",
      " 3   Kilometers_Driven  6019 non-null   int64  \n",
      " 4   Fuel_Type          6019 non-null   object \n",
      " 5   Owner_Type         6019 non-null   object \n",
      " 6   Mileage            6019 non-null   object \n",
      " 7   Price              6019 non-null   float64\n",
      "dtypes: float64(1), int64(2), object(5)\n",
      "memory usage: 376.3+ KB\n"
     ]
    }
   ],
   "metadata": {}
  },
  {
   "cell_type": "code",
   "execution_count": 16,
   "source": [
    "car_df = car_df.astype({'Price':float, 'Kilometers_Driven':float,'Mileage':float})"
   ],
   "outputs": [],
   "metadata": {}
  },
  {
   "cell_type": "code",
   "execution_count": 17,
   "source": [
    "car_df.info()"
   ],
   "outputs": [
    {
     "output_type": "stream",
     "name": "stdout",
     "text": [
      "<class 'pandas.core.frame.DataFrame'>\n",
      "RangeIndex: 6019 entries, 0 to 6018\n",
      "Data columns (total 8 columns):\n",
      " #   Column             Non-Null Count  Dtype  \n",
      "---  ------             --------------  -----  \n",
      " 0   Name               6019 non-null   object \n",
      " 1   Location           6019 non-null   object \n",
      " 2   Year               6019 non-null   int64  \n",
      " 3   Kilometers_Driven  6019 non-null   float64\n",
      " 4   Fuel_Type          6019 non-null   object \n",
      " 5   Owner_Type         6019 non-null   object \n",
      " 6   Mileage            6017 non-null   float64\n",
      " 7   Price              6019 non-null   float64\n",
      "dtypes: float64(3), int64(1), object(4)\n",
      "memory usage: 376.3+ KB\n"
     ]
    }
   ],
   "metadata": {}
  },
  {
   "cell_type": "markdown",
   "source": [
    "### (4) null 값 없애기"
   ],
   "metadata": {}
  },
  {
   "cell_type": "code",
   "execution_count": 19,
   "source": [
    "car_df.isna().sum()"
   ],
   "outputs": [
    {
     "output_type": "execute_result",
     "data": {
      "text/plain": [
       "Name                 0\n",
       "Location             0\n",
       "Year                 0\n",
       "Kilometers_Driven    0\n",
       "Fuel_Type            0\n",
       "Owner_Type           0\n",
       "Mileage              2\n",
       "Price                0\n",
       "dtype: int64"
      ]
     },
     "metadata": {},
     "execution_count": 19
    }
   ],
   "metadata": {}
  },
  {
   "cell_type": "code",
   "execution_count": 20,
   "source": [
    "car_df['Mileage']= car_df['Mileage'].fillna(car_df['Mileage'].mean())"
   ],
   "outputs": [],
   "metadata": {}
  },
  {
   "cell_type": "code",
   "execution_count": 21,
   "source": [
    "car_df.isna().sum()"
   ],
   "outputs": [
    {
     "output_type": "execute_result",
     "data": {
      "text/plain": [
       "Name                 0\n",
       "Location             0\n",
       "Year                 0\n",
       "Kilometers_Driven    0\n",
       "Fuel_Type            0\n",
       "Owner_Type           0\n",
       "Mileage              0\n",
       "Price                0\n",
       "dtype: int64"
      ]
     },
     "metadata": {},
     "execution_count": 21
    }
   ],
   "metadata": {}
  },
  {
   "cell_type": "markdown",
   "source": [
    "### (5)get_dummise를 이용해서 'Year', 'Name','Location', 'Fuel_Type', 'Owner_Type' 인코딩하기"
   ],
   "metadata": {}
  },
  {
   "cell_type": "code",
   "execution_count": 25,
   "source": [
    "from sklearn.model_selection import train_test_split , GridSearchCV\r\n",
    "\r\n",
    "y_target = car_df['Price']\r\n",
    "X_features = car_df.drop(['Price'], axis=1)\r\n",
    "\r\n",
    "X_features_ohe = pd.get_dummies(X_features, columns=['Year','Name','Location','Fuel_Type','Owner_Type'])"
   ],
   "outputs": [],
   "metadata": {}
  },
  {
   "cell_type": "code",
   "execution_count": 26,
   "source": [
    "X_features_ohe"
   ],
   "outputs": [
    {
     "output_type": "execute_result",
     "data": {
      "text/html": [
       "<div>\n",
       "<style scoped>\n",
       "    .dataframe tbody tr th:only-of-type {\n",
       "        vertical-align: middle;\n",
       "    }\n",
       "\n",
       "    .dataframe tbody tr th {\n",
       "        vertical-align: top;\n",
       "    }\n",
       "\n",
       "    .dataframe thead th {\n",
       "        text-align: right;\n",
       "    }\n",
       "</style>\n",
       "<table border=\"1\" class=\"dataframe\">\n",
       "  <thead>\n",
       "    <tr style=\"text-align: right;\">\n",
       "      <th></th>\n",
       "      <th>Kilometers_Driven</th>\n",
       "      <th>Mileage</th>\n",
       "      <th>Year_1998</th>\n",
       "      <th>Year_1999</th>\n",
       "      <th>Year_2000</th>\n",
       "      <th>Year_2001</th>\n",
       "      <th>Year_2002</th>\n",
       "      <th>Year_2003</th>\n",
       "      <th>Year_2004</th>\n",
       "      <th>Year_2005</th>\n",
       "      <th>...</th>\n",
       "      <th>Location_Pune</th>\n",
       "      <th>Fuel_Type_CNG</th>\n",
       "      <th>Fuel_Type_Diesel</th>\n",
       "      <th>Fuel_Type_Electric</th>\n",
       "      <th>Fuel_Type_LPG</th>\n",
       "      <th>Fuel_Type_Petrol</th>\n",
       "      <th>Owner_Type_First</th>\n",
       "      <th>Owner_Type_Fourth &amp; Above</th>\n",
       "      <th>Owner_Type_Second</th>\n",
       "      <th>Owner_Type_Third</th>\n",
       "    </tr>\n",
       "  </thead>\n",
       "  <tbody>\n",
       "    <tr>\n",
       "      <th>0</th>\n",
       "      <td>72000.0</td>\n",
       "      <td>26.60</td>\n",
       "      <td>0</td>\n",
       "      <td>0</td>\n",
       "      <td>0</td>\n",
       "      <td>0</td>\n",
       "      <td>0</td>\n",
       "      <td>0</td>\n",
       "      <td>0</td>\n",
       "      <td>0</td>\n",
       "      <td>...</td>\n",
       "      <td>0</td>\n",
       "      <td>1</td>\n",
       "      <td>0</td>\n",
       "      <td>0</td>\n",
       "      <td>0</td>\n",
       "      <td>0</td>\n",
       "      <td>1</td>\n",
       "      <td>0</td>\n",
       "      <td>0</td>\n",
       "      <td>0</td>\n",
       "    </tr>\n",
       "    <tr>\n",
       "      <th>1</th>\n",
       "      <td>41000.0</td>\n",
       "      <td>19.67</td>\n",
       "      <td>0</td>\n",
       "      <td>0</td>\n",
       "      <td>0</td>\n",
       "      <td>0</td>\n",
       "      <td>0</td>\n",
       "      <td>0</td>\n",
       "      <td>0</td>\n",
       "      <td>0</td>\n",
       "      <td>...</td>\n",
       "      <td>1</td>\n",
       "      <td>0</td>\n",
       "      <td>1</td>\n",
       "      <td>0</td>\n",
       "      <td>0</td>\n",
       "      <td>0</td>\n",
       "      <td>1</td>\n",
       "      <td>0</td>\n",
       "      <td>0</td>\n",
       "      <td>0</td>\n",
       "    </tr>\n",
       "    <tr>\n",
       "      <th>2</th>\n",
       "      <td>46000.0</td>\n",
       "      <td>18.20</td>\n",
       "      <td>0</td>\n",
       "      <td>0</td>\n",
       "      <td>0</td>\n",
       "      <td>0</td>\n",
       "      <td>0</td>\n",
       "      <td>0</td>\n",
       "      <td>0</td>\n",
       "      <td>0</td>\n",
       "      <td>...</td>\n",
       "      <td>0</td>\n",
       "      <td>0</td>\n",
       "      <td>0</td>\n",
       "      <td>0</td>\n",
       "      <td>0</td>\n",
       "      <td>1</td>\n",
       "      <td>1</td>\n",
       "      <td>0</td>\n",
       "      <td>0</td>\n",
       "      <td>0</td>\n",
       "    </tr>\n",
       "    <tr>\n",
       "      <th>3</th>\n",
       "      <td>87000.0</td>\n",
       "      <td>20.77</td>\n",
       "      <td>0</td>\n",
       "      <td>0</td>\n",
       "      <td>0</td>\n",
       "      <td>0</td>\n",
       "      <td>0</td>\n",
       "      <td>0</td>\n",
       "      <td>0</td>\n",
       "      <td>0</td>\n",
       "      <td>...</td>\n",
       "      <td>0</td>\n",
       "      <td>0</td>\n",
       "      <td>1</td>\n",
       "      <td>0</td>\n",
       "      <td>0</td>\n",
       "      <td>0</td>\n",
       "      <td>1</td>\n",
       "      <td>0</td>\n",
       "      <td>0</td>\n",
       "      <td>0</td>\n",
       "    </tr>\n",
       "    <tr>\n",
       "      <th>4</th>\n",
       "      <td>40670.0</td>\n",
       "      <td>15.20</td>\n",
       "      <td>0</td>\n",
       "      <td>0</td>\n",
       "      <td>0</td>\n",
       "      <td>0</td>\n",
       "      <td>0</td>\n",
       "      <td>0</td>\n",
       "      <td>0</td>\n",
       "      <td>0</td>\n",
       "      <td>...</td>\n",
       "      <td>0</td>\n",
       "      <td>0</td>\n",
       "      <td>1</td>\n",
       "      <td>0</td>\n",
       "      <td>0</td>\n",
       "      <td>0</td>\n",
       "      <td>0</td>\n",
       "      <td>0</td>\n",
       "      <td>1</td>\n",
       "      <td>0</td>\n",
       "    </tr>\n",
       "    <tr>\n",
       "      <th>...</th>\n",
       "      <td>...</td>\n",
       "      <td>...</td>\n",
       "      <td>...</td>\n",
       "      <td>...</td>\n",
       "      <td>...</td>\n",
       "      <td>...</td>\n",
       "      <td>...</td>\n",
       "      <td>...</td>\n",
       "      <td>...</td>\n",
       "      <td>...</td>\n",
       "      <td>...</td>\n",
       "      <td>...</td>\n",
       "      <td>...</td>\n",
       "      <td>...</td>\n",
       "      <td>...</td>\n",
       "      <td>...</td>\n",
       "      <td>...</td>\n",
       "      <td>...</td>\n",
       "      <td>...</td>\n",
       "      <td>...</td>\n",
       "      <td>...</td>\n",
       "    </tr>\n",
       "    <tr>\n",
       "      <th>6014</th>\n",
       "      <td>27365.0</td>\n",
       "      <td>28.40</td>\n",
       "      <td>0</td>\n",
       "      <td>0</td>\n",
       "      <td>0</td>\n",
       "      <td>0</td>\n",
       "      <td>0</td>\n",
       "      <td>0</td>\n",
       "      <td>0</td>\n",
       "      <td>0</td>\n",
       "      <td>...</td>\n",
       "      <td>0</td>\n",
       "      <td>0</td>\n",
       "      <td>1</td>\n",
       "      <td>0</td>\n",
       "      <td>0</td>\n",
       "      <td>0</td>\n",
       "      <td>1</td>\n",
       "      <td>0</td>\n",
       "      <td>0</td>\n",
       "      <td>0</td>\n",
       "    </tr>\n",
       "    <tr>\n",
       "      <th>6015</th>\n",
       "      <td>100000.0</td>\n",
       "      <td>24.40</td>\n",
       "      <td>0</td>\n",
       "      <td>0</td>\n",
       "      <td>0</td>\n",
       "      <td>0</td>\n",
       "      <td>0</td>\n",
       "      <td>0</td>\n",
       "      <td>0</td>\n",
       "      <td>0</td>\n",
       "      <td>...</td>\n",
       "      <td>0</td>\n",
       "      <td>0</td>\n",
       "      <td>1</td>\n",
       "      <td>0</td>\n",
       "      <td>0</td>\n",
       "      <td>0</td>\n",
       "      <td>1</td>\n",
       "      <td>0</td>\n",
       "      <td>0</td>\n",
       "      <td>0</td>\n",
       "    </tr>\n",
       "    <tr>\n",
       "      <th>6016</th>\n",
       "      <td>55000.0</td>\n",
       "      <td>14.00</td>\n",
       "      <td>0</td>\n",
       "      <td>0</td>\n",
       "      <td>0</td>\n",
       "      <td>0</td>\n",
       "      <td>0</td>\n",
       "      <td>0</td>\n",
       "      <td>0</td>\n",
       "      <td>0</td>\n",
       "      <td>...</td>\n",
       "      <td>0</td>\n",
       "      <td>0</td>\n",
       "      <td>1</td>\n",
       "      <td>0</td>\n",
       "      <td>0</td>\n",
       "      <td>0</td>\n",
       "      <td>0</td>\n",
       "      <td>0</td>\n",
       "      <td>1</td>\n",
       "      <td>0</td>\n",
       "    </tr>\n",
       "    <tr>\n",
       "      <th>6017</th>\n",
       "      <td>46000.0</td>\n",
       "      <td>18.90</td>\n",
       "      <td>0</td>\n",
       "      <td>0</td>\n",
       "      <td>0</td>\n",
       "      <td>0</td>\n",
       "      <td>0</td>\n",
       "      <td>0</td>\n",
       "      <td>0</td>\n",
       "      <td>0</td>\n",
       "      <td>...</td>\n",
       "      <td>0</td>\n",
       "      <td>0</td>\n",
       "      <td>0</td>\n",
       "      <td>0</td>\n",
       "      <td>0</td>\n",
       "      <td>1</td>\n",
       "      <td>1</td>\n",
       "      <td>0</td>\n",
       "      <td>0</td>\n",
       "      <td>0</td>\n",
       "    </tr>\n",
       "    <tr>\n",
       "      <th>6018</th>\n",
       "      <td>47000.0</td>\n",
       "      <td>25.44</td>\n",
       "      <td>0</td>\n",
       "      <td>0</td>\n",
       "      <td>0</td>\n",
       "      <td>0</td>\n",
       "      <td>0</td>\n",
       "      <td>0</td>\n",
       "      <td>0</td>\n",
       "      <td>0</td>\n",
       "      <td>...</td>\n",
       "      <td>0</td>\n",
       "      <td>0</td>\n",
       "      <td>1</td>\n",
       "      <td>0</td>\n",
       "      <td>0</td>\n",
       "      <td>0</td>\n",
       "      <td>1</td>\n",
       "      <td>0</td>\n",
       "      <td>0</td>\n",
       "      <td>0</td>\n",
       "    </tr>\n",
       "  </tbody>\n",
       "</table>\n",
       "<p>6019 rows × 75 columns</p>\n",
       "</div>"
      ],
      "text/plain": [
       "      Kilometers_Driven  Mileage  Year_1998  Year_1999  Year_2000  Year_2001  \\\n",
       "0               72000.0    26.60          0          0          0          0   \n",
       "1               41000.0    19.67          0          0          0          0   \n",
       "2               46000.0    18.20          0          0          0          0   \n",
       "3               87000.0    20.77          0          0          0          0   \n",
       "4               40670.0    15.20          0          0          0          0   \n",
       "...                 ...      ...        ...        ...        ...        ...   \n",
       "6014            27365.0    28.40          0          0          0          0   \n",
       "6015           100000.0    24.40          0          0          0          0   \n",
       "6016            55000.0    14.00          0          0          0          0   \n",
       "6017            46000.0    18.90          0          0          0          0   \n",
       "6018            47000.0    25.44          0          0          0          0   \n",
       "\n",
       "      Year_2002  Year_2003  Year_2004  Year_2005  ...  Location_Pune  \\\n",
       "0             0          0          0          0  ...              0   \n",
       "1             0          0          0          0  ...              1   \n",
       "2             0          0          0          0  ...              0   \n",
       "3             0          0          0          0  ...              0   \n",
       "4             0          0          0          0  ...              0   \n",
       "...         ...        ...        ...        ...  ...            ...   \n",
       "6014          0          0          0          0  ...              0   \n",
       "6015          0          0          0          0  ...              0   \n",
       "6016          0          0          0          0  ...              0   \n",
       "6017          0          0          0          0  ...              0   \n",
       "6018          0          0          0          0  ...              0   \n",
       "\n",
       "      Fuel_Type_CNG  Fuel_Type_Diesel  Fuel_Type_Electric  Fuel_Type_LPG  \\\n",
       "0                 1                 0                   0              0   \n",
       "1                 0                 1                   0              0   \n",
       "2                 0                 0                   0              0   \n",
       "3                 0                 1                   0              0   \n",
       "4                 0                 1                   0              0   \n",
       "...             ...               ...                 ...            ...   \n",
       "6014              0                 1                   0              0   \n",
       "6015              0                 1                   0              0   \n",
       "6016              0                 1                   0              0   \n",
       "6017              0                 0                   0              0   \n",
       "6018              0                 1                   0              0   \n",
       "\n",
       "      Fuel_Type_Petrol  Owner_Type_First  Owner_Type_Fourth & Above  \\\n",
       "0                    0                 1                          0   \n",
       "1                    0                 1                          0   \n",
       "2                    1                 1                          0   \n",
       "3                    0                 1                          0   \n",
       "4                    0                 0                          0   \n",
       "...                ...               ...                        ...   \n",
       "6014                 0                 1                          0   \n",
       "6015                 0                 1                          0   \n",
       "6016                 0                 0                          0   \n",
       "6017                 1                 1                          0   \n",
       "6018                 0                 1                          0   \n",
       "\n",
       "      Owner_Type_Second  Owner_Type_Third  \n",
       "0                     0                 0  \n",
       "1                     0                 0  \n",
       "2                     0                 0  \n",
       "3                     0                 0  \n",
       "4                     1                 0  \n",
       "...                 ...               ...  \n",
       "6014                  0                 0  \n",
       "6015                  0                 0  \n",
       "6016                  1                 0  \n",
       "6017                  0                 0  \n",
       "6018                  0                 0  \n",
       "\n",
       "[6019 rows x 75 columns]"
      ]
     },
     "metadata": {},
     "execution_count": 26
    }
   ],
   "metadata": {}
  },
  {
   "cell_type": "markdown",
   "source": [
    "## 2. 사이킷런의 LinearRegression 객체를 이용해서 회귀 예측하기"
   ],
   "metadata": {}
  },
  {
   "cell_type": "code",
   "execution_count": 43,
   "source": [
    "from sklearn.model_selection import train_test_split\r\n",
    "from sklearn.linear_model import LinearRegression, Ridge, Lasso\r\n",
    "from sklearn.metrics import mean_absolute_error, mean_squared_error\r\n",
    "X_train, X_test, y_train, y_test = train_test_split(X_features_ohe, y_target, test_size=0.3, random_state=0)\r\n",
    "\r\n",
    "lr = LinearRegression()\r\n",
    "lr.fit(X_train, y_train)\r\n",
    "pred = lr.predict(X_test)\r\n",
    "\r\n",
    "mae = mean_absolute_error(y_test, pred)\r\n",
    "mse = mean_squared_error(y_test, pred)\r\n",
    "rmse = np.sqrt(mse)\r\n",
    "\r\n",
    "print('MAE : {0:.3f}, MSE : {1:.3f}, RMSE : {2:.3f}'.format(mae, mse, rmse))"
   ],
   "outputs": [
    {
     "output_type": "stream",
     "name": "stdout",
     "text": [
      "MAE : 3.479, MSE : 44.946, RMSE : 6.704\n"
     ]
    }
   ],
   "metadata": {}
  },
  {
   "cell_type": "code",
   "execution_count": 39,
   "source": [
    "from sklearn.model_selection import cross_val_score\r\n",
    "\r\n",
    "lr = LinearRegression()\r\n",
    "neg_mse_scores = cross_val_score(lr, X_features_ohe, y_target, scoring='neg_mean_squared_error', cv=5)\r\n",
    "rmse_scores = np.sqrt(-1*neg_mse_scores)\r\n",
    "avg_rmse = np.mean(rmse_scores)\r\n",
    "\r\n",
    "print(np.round(neg_mse_scores, 2))\r\n",
    "print(np.round(rmse_scores, 2))\r\n",
    "print(np.round(avg_rmse, 2))"
   ],
   "outputs": [
    {
     "output_type": "stream",
     "name": "stdout",
     "text": [
      "[-34.25 -52.4  -29.27 -41.19 -42.91]\n",
      "[5.85 7.24 5.41 6.42 6.55]\n",
      "6.29\n"
     ]
    }
   ],
   "metadata": {}
  },
  {
   "cell_type": "markdown",
   "source": [
    "## 3. Target 값인 Price가 정규 분포를 이루는지 확인하기 왜곡되어 있다면, 로그를 적용해서 변환해주기"
   ],
   "metadata": {}
  },
  {
   "cell_type": "code",
   "execution_count": 40,
   "source": [
    "y_target.hist()"
   ],
   "outputs": [
    {
     "output_type": "execute_result",
     "data": {
      "text/plain": [
       "<AxesSubplot:>"
      ]
     },
     "metadata": {},
     "execution_count": 40
    },
    {
     "output_type": "display_data",
     "data": {
      "image/png": "[encoded data removed]",
      "text/plain": [
       "<Figure size 432x288 with 1 Axes>"
      ]
     },
     "metadata": {
      "needs_background": "light"
     }
    }
   ],
   "metadata": {}
  },
  {
   "cell_type": "code",
   "execution_count": 42,
   "source": [
    "y_target_log = np.log1p(y_target)\r\n",
    "y_target_log.hist()"
   ],
   "outputs": [
    {
     "output_type": "execute_result",
     "data": {
      "text/plain": [
       "<AxesSubplot:>"
      ]
     },
     "metadata": {},
     "execution_count": 42
    },
    {
     "output_type": "display_data",
     "data": {
      "image/png": "[encoded data removed]",
      "text/plain": [
       "<Figure size 432x288 with 1 Axes>"
      ]
     },
     "metadata": {
      "needs_background": "light"
     }
    }
   ],
   "metadata": {}
  },
  {
   "cell_type": "markdown",
   "source": [
    "## 4. 변환한 값을 가지고 다시 사이킷런의 LinearRegression, Ridge, Lasso 객체들를 이용해서 학습학하고 예측 성능 확인하기"
   ],
   "metadata": {}
  },
  {
   "cell_type": "code",
   "execution_count": 47,
   "source": [
    "def rmsle(y, pred):\r\n",
    "    log_y = np.log1p(y)\r\n",
    "    log_pred = np.log1p(pred)\r\n",
    "    squared_error = (log_y - log_pred) ** 2\r\n",
    "    rmsle = np.sqrt(np.mean(squared_error))\r\n",
    "    return rmsle\r\n",
    "\r\n",
    "def rmse(y,pred):\r\n",
    "    return np.sqrt(mean_squared_error(y,pred))\r\n",
    "\r\n",
    "def evaluate_regr(y,pred):\r\n",
    "    rmsle_val = rmsle(y,pred)\r\n",
    "    rmse_val = rmse(y,pred)\r\n",
    "    mae_val = mean_absolute_error(y,pred)\r\n",
    "    print('MAE: {0:.3f}, RMSE: {1:.3F}, RMSLE: {2:.3F}'.format(mae_val, rmse_val, rmsle_val))"
   ],
   "outputs": [],
   "metadata": {}
  },
  {
   "cell_type": "code",
   "execution_count": 48,
   "source": [
    "X_train, X_test, y_train, y_test = train_test_split(X_features_ohe, y_target_log,\r\n",
    "                                                    test_size=0.3, random_state=0)\r\n",
    "\r\n",
    "\r\n",
    "def get_model_predict(model, X_train, X_test, y_train, y_test, is_expm1=False):\r\n",
    "    model.fit(X_train, y_train)\r\n",
    "    pred = model.predict(X_test)\r\n",
    "    if is_expm1 :\r\n",
    "        y_test = np.expm1(y_test)\r\n",
    "        pred = np.expm1(pred)\r\n",
    "    print('###',model.__class__.__name__,'###')\r\n",
    "    evaluate_regr(y_test, pred)\r\n",
    "  \r\n",
    "\r\n",
    "\r\n",
    "lr_reg = LinearRegression()\r\n",
    "ridge_reg = Ridge(alpha=10)\r\n",
    "lasso_reg = Lasso(alpha=0.01)\r\n",
    "\r\n",
    "for model in [lr_reg, ridge_reg, lasso_reg]:\r\n",
    "    get_model_predict(model,X_train, X_test, y_train, y_test,is_expm1=True)"
   ],
   "outputs": [
    {
     "output_type": "stream",
     "name": "stdout",
     "text": [
      "### LinearRegression ###\n",
      "MAE: 2.545, RMSE: 6.272, RMSLE: 0.291\n",
      "### Ridge ###\n",
      "MAE: 2.582, RMSE: 6.287, RMSLE: 0.295\n",
      "### Lasso ###\n",
      "MAE: 3.636, RMSE: 8.111, RMSLE: 0.426\n"
     ]
    }
   ],
   "metadata": {}
  },
  {
   "cell_type": "markdown",
   "source": [
    "## 5. 변환한 값을 가지고 회귀 트리인 랜덤 포레스트, GBM, XGBoost, LightGBM을 순차적으로 성능 평가해보기"
   ],
   "metadata": {}
  },
  {
   "cell_type": "code",
   "execution_count": 49,
   "source": [
    "\r\n",
    "from sklearn.ensemble import RandomForestRegressor, GradientBoostingRegressor\r\n",
    "from xgboost import XGBRegressor\r\n",
    "from lightgbm import LGBMRegressor\r\n",
    "\r\n",
    "rf_reg = RandomForestRegressor(n_estimators=500)\r\n",
    "gbm_reg = GradientBoostingRegressor(n_estimators=500)\r\n",
    "xgb_reg = XGBRegressor(n_estimators=500)\r\n",
    "lgbm_reg = LGBMRegressor(n_estimators=500)\r\n",
    "\r\n",
    "for model in [rf_reg, gbm_reg, xgb_reg, lgbm_reg]:\r\n",
    "    get_model_predict(model,X_train.values, X_test.values, y_train.values, y_test.values,is_expm1=True)"
   ],
   "outputs": [
    {
     "output_type": "stream",
     "name": "stdout",
     "text": [
      "### RandomForestRegressor ###\n",
      "MAE: 2.430, RMSE: 6.233, RMSLE: 0.293\n",
      "### GradientBoostingRegressor ###\n",
      "MAE: 2.186, RMSE: 5.658, RMSLE: 0.259\n",
      "### XGBRegressor ###\n",
      "MAE: 1.971, RMSE: 5.263, RMSLE: 0.233\n",
      "### LGBMRegressor ###\n",
      "MAE: 2.179, RMSE: 5.601, RMSLE: 0.250\n"
     ]
    }
   ],
   "metadata": {}
  }
 ],
 "metadata": {
  "kernelspec": {
   "name": "python3",
   "display_name": "Python 3.8.10 64-bit ('base': conda)"
  },
  "language_info": {
   "codemirror_mode": {
    "name": "ipython",
    "version": 3
   },
   "file_extension": ".py",
   "mimetype": "text/x-python",
   "name": "python",
   "nbconvert_exporter": "python",
   "pygments_lexer": "ipython3",
   "version": "3.8.10"
  },
  "interpreter": {
   "hash": "97ae724bfa85b9b34df7982b8bb8c7216f435b92902d749e4263f71162bea840"
  }
 },
 "nbformat": 4,
 "nbformat_minor": 5
}