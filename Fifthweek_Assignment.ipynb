{
 "cells": [
  {
   "cell_type": "markdown",
   "id": "692ac185",
   "metadata": {},
   "source": [
    "# 1. 선형/비선형 여부는 독립 변수가 한 개인지 여러개인지에 따라 나뉜다.\n",
    "## (O/X 문제, 답에 대한 이유를 적으시오)\n",
    "# 2. RSS 에 간략하게 적으시오\n",
    "# 3. RSS는 회귀식의 독립변수 X, 종속변수Y 가 중심변수이다.\n",
    "## (O/X 문제, 답에 대한 이유를 적으시오)\n",
    "# 4. 최적의 회귀 모델을 만든다는 것의 의미를 적으시오\n",
    "# 5. 머신러닝 회귀 예측의 핵심은?\n",
    "# 6. 경사 하강법의 핵심과 원리를 간략하게 적으시오\n",
    "# 7. 다중공선성 문제의 정의와 해결방법을 적으시오\n",
    "# 8. 회귀 평가 지표 4가지를 간략하게 적으시오\n",
    "# 9. neg_mean_absolute_error 가 음수값을 반환하는 이유를 적으시오.\n",
    "# 10. 차수와 편향과 분산, 과소적합, 과적합들의 관계를 적으시오\n",
    "# 11. 회귀 계수의 크기를 제어하고 RSS 최소화 방법을 사용하는 비용함수의 목표를 적으시오\n",
    "# 12. 릿지 회귀는 alpha 값이 커질수록 회귀 계수를 작게 만든다.\n",
    "## (O/X 문제, 답에 대한 이유를 적으시오)\n",
    "# 13. 로지스틱 함수는 선형 회귀방식을 따르고 회귀 최적선을 찾는다.\n",
    "## (O/X 문제, 답에 대한 이유를 적으시오)"
   ]
  },
  {
   "cell_type": "markdown",
   "id": "7bbbf822",
   "metadata": {},
   "source": [
    "# 14. 중고차 가격 예측 회귀 실습 (밑의 순서대로 진행할것)\n",
    "## 1. 데이터 전처리\n",
    "### (1) Year를 datetime 형식으로 변환하기\n",
    "### (2) 'Unnamed: 0','New_Price', 'Transmission', 'Engine', 'Seats', 'Power' 칼럼 삭제하기\n",
    "### (3) Price, Kilometers_Driven, Mileage float 형으로 변환하기\n",
    "### (4) null 값 없애기\n",
    "### (5)get_dummise를 이용해서 'Year', 'Name','Location', 'Fuel_Type', 'Owner_Type' 인코딩하기\n",
    "## 2. 사이킷런의 LinearRegression 객체를 이용해서 회귀 예측하기\n",
    "## 3. Target 값인 Price가 정규 분포를 이루는지 확인하기 왜곡되어 있다면, 로그를 적용해서 변환해주기\n",
    "## 4. 변환한 값을 가지고 다시 사이킷런의 LinearRegression, Ridge, Lasso 객체들를 이용해서 학습학하고 예측 성능 확인하기\n",
    "## 6. 변환한 값을 가지고 회귀 트리인 랜덤 포레스트, GBM, XGBoost, LightGBM을 순차적으로 성능 평가해보기"
   ]
  }
 ],
 "metadata": {
  "kernelspec": {
   "display_name": "Python 3",
   "language": "python",
   "name": "python3"
  },
  "language_info": {
   "codemirror_mode": {
    "name": "ipython",
    "version": 3
   },
   "file_extension": ".py",
   "mimetype": "text/x-python",
   "name": "python",
   "nbconvert_exporter": "python",
   "pygments_lexer": "ipython3",
   "version": "3.8.8"
  }
 },
 "nbformat": 4,
 "nbformat_minor": 5
}
