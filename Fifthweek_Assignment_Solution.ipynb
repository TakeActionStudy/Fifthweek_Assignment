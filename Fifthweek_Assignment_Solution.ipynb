{
 "cells": [
  {
   "cell_type": "markdown",
   "id": "33f46128",
   "metadata": {},
   "source": [
    "# 1. 선형/비선형 여부는 독립 변수가 한 개인지 여러개인지에 따라 나뉜다.\n",
    "## (O/X 문제, 답에 대한 이유를 적으시오)\n",
    "X, 회귀계수가 선형이냐 아니냐에 따라 선형/비선형 여부가 나뉘고, 독립변수의 개수에 따라서는 단일 회귀와, 다중 회귀로 나뉘어진다.\n",
    "# 2. RSS 에 간략하게 적으시오\n",
    "RSS(Residual Sum of Square), 오류 값의 제곱을 구해서 더하는 방식, 일반적으로 미분 등의 계산을 편하게 하기 위해 사용\n",
    "Error^2 = RSS\n",
    "# 3. RSS는 회귀식의 독립변수 X, 종속변수Y 가 중심변수이다.\n",
    "## (O/X 문제, 답에 대한 이유를 적으시오)\n",
    "X, w변수, 회귀 변수가 중심 변수이다.\n",
    "# 4. 최적의 회귀 모델을 만든다는 것의 의미를 적으시오\n",
    "전체 데이터의 잔차(오류값) 합이 최소가 되는 모델을 만드는 것이자 동시에 오류 값 합이 최소가 될 수 있는 최적의 회귀 계수를 찾는 다는 의미\n",
    "# 5. 머신러닝 회귀 예측의 핵심은?\n",
    "주어진 피처와 결정 값 데이터 기반에서 학습을 통해 최적의 회귀 계수를 찾아내는 것, RSS 를 최소로 하는 회귀 계수를 학습을 통해서 찾는 것\n",
    "# 6. 경사 하강법의 핵심과 원리를 간략하게 적으시오\n",
    "핵심: 오류가 작아지는 방향으로 w 값을 보정하는 것, 비용함수가 최소가 되는 값을 찾는다.\n",
    "\n",
    "원리: 미분된 1차 함수의 기울기가 감소하지 않는 지접을 비용함수가 최소인 지점으로 반환하고 그 때의 w를 반환한다.\n",
    "경사하강법 계산을 여러번 반복해서 w값을 변경하며 학습시킨다.\n",
    "# 7. 다중공선성 문제의 정의와 해결방법을 적으시오\n",
    "정의: 피처 간의 상관관계가 매우 높은 경우 분산이 커져서 오류에 민감해지는 현상\n",
    "\n",
    "해결 방법: 독립적인 중요한 피처만 남기고 제거하거나 규제를 사용하거나, PCA를 통해 차원 축소를 수행한다.\n",
    "# 8. 회귀 평가 지표 4가지를 간략하게 적으시오\n",
    "1. MAE: 실제값과 예측값의 차이를 절댓값으로 변환해 평균한것\n",
    "2. MSE: 실제값과 예측값의 차이를 제곱해 평균한것\n",
    "3. RMSE: MSE에 루트를 씌운것\n",
    "4. R^2: 분산 기반으로 예측 성능을 평가하는 것, 에측값 분산/실제값 분산, 1에 가까울 수록 정확도가 높다.\n",
    "\n",
    "# 9. neg_mean_absolute_error 가 음수값을 반환하는 이유를 적으시오\n",
    "사이킷런의 Scoring 함수가 score 값이 클수록 좋은 평가 결과로 자동 평가하기 때문이다.\n",
    "오류 차이를 기반으로한다면 오류 값이 클 수록 나쁜 결과인데 이를 Scoring 함수에 그대로 넣게 되면 좋은 성능이 되기때문에\n",
    "이를 거꾸로 적용하기 위하여 -1을 곱해주는 것이다.\n",
    "# 10. 차수와 편향과 분산, 과소적합, 과적합들의 관계를 적으시오\n",
    "차수가 낮아지면 편향은 높아지고 분산은 낮아지고 과소적합이되는 경향이 있다.\n",
    "차수가 높아지면 편향은 낮아지고 분산은 높아지고 과적합이 되는 경향이 있다.\n",
    "# 11. 회귀 계수의 크기를 제어하고 RSS 최소화 방법을 사용하는 비용함수의 목표를 적으시오\n",
    "RSS(W) + alpha*||W||^2_2 를 최소화하는 것\n",
    "# 12. 릿지 회귀는 alpha 값이 커질수록 회귀 계수를 작게 만든다.\n",
    "## (O/X 문제, 답에 대한 이유를 적으시오)\n",
    "O, 알파값이 커지면, alpha*||W||^2_2 얘도 커져서 W를 작게 만들어 줘야하기 때문이다.\n",
    "# 13. 로지스틱 함수는 선형 회귀방식을 따르고 회귀 최적선을 찾는다.\n",
    "## (O/X 문제, 답에 대한 이유를 적으시오)\n",
    "X, 로지스틱 회귀는 선형 회귀 방식을 기반으로 하되, 시그모이드 함수를 이용해 분류를 수행하는 회귀이다."
   ]
  },
  {
   "cell_type": "markdown",
   "id": "d02f582c",
   "metadata": {},
   "source": [
    "# 14. 중고차 가격 예측 회귀 실습 (밑의 순서대로 진행할것)"
   ]
  },
  {
   "cell_type": "code",
   "execution_count": 30,
   "id": "f1df5af3",
   "metadata": {},
   "outputs": [
    {
     "name": "stdout",
     "output_type": "stream",
     "text": [
      "(6019, 14)\n"
     ]
    },
    {
     "data": {
      "text/html": [
       "<div>\n",
       "<style scoped>\n",
       "    .dataframe tbody tr th:only-of-type {\n",
       "        vertical-align: middle;\n",
       "    }\n",
       "\n",
       "    .dataframe tbody tr th {\n",
       "        vertical-align: top;\n",
       "    }\n",
       "\n",
       "    .dataframe thead th {\n",
       "        text-align: right;\n",
       "    }\n",
       "</style>\n",
       "<table border=\"1\" class=\"dataframe\">\n",
       "  <thead>\n",
       "    <tr style=\"text-align: right;\">\n",
       "      <th></th>\n",
       "      <th>Unnamed: 0</th>\n",
       "      <th>Name</th>\n",
       "      <th>Location</th>\n",
       "      <th>Year</th>\n",
       "      <th>Kilometers_Driven</th>\n",
       "      <th>Fuel_Type</th>\n",
       "      <th>Transmission</th>\n",
       "      <th>Owner_Type</th>\n",
       "      <th>Mileage</th>\n",
       "      <th>Engine</th>\n",
       "      <th>Power</th>\n",
       "      <th>Seats</th>\n",
       "      <th>New_Price</th>\n",
       "      <th>Price</th>\n",
       "    </tr>\n",
       "  </thead>\n",
       "  <tbody>\n",
       "    <tr>\n",
       "      <th>0</th>\n",
       "      <td>0</td>\n",
       "      <td>Maruti Wagon R LXI CNG</td>\n",
       "      <td>Mumbai</td>\n",
       "      <td>2010</td>\n",
       "      <td>72000</td>\n",
       "      <td>CNG</td>\n",
       "      <td>Manual</td>\n",
       "      <td>First</td>\n",
       "      <td>26.6 km/kg</td>\n",
       "      <td>998 CC</td>\n",
       "      <td>58.16 bhp</td>\n",
       "      <td>5.0</td>\n",
       "      <td>NaN</td>\n",
       "      <td>1.75</td>\n",
       "    </tr>\n",
       "    <tr>\n",
       "      <th>1</th>\n",
       "      <td>1</td>\n",
       "      <td>Hyundai Creta 1.6 CRDi SX Option</td>\n",
       "      <td>Pune</td>\n",
       "      <td>2015</td>\n",
       "      <td>41000</td>\n",
       "      <td>Diesel</td>\n",
       "      <td>Manual</td>\n",
       "      <td>First</td>\n",
       "      <td>19.67 kmpl</td>\n",
       "      <td>1582 CC</td>\n",
       "      <td>126.2 bhp</td>\n",
       "      <td>5.0</td>\n",
       "      <td>NaN</td>\n",
       "      <td>12.50</td>\n",
       "    </tr>\n",
       "    <tr>\n",
       "      <th>2</th>\n",
       "      <td>2</td>\n",
       "      <td>Honda Jazz V</td>\n",
       "      <td>Chennai</td>\n",
       "      <td>2011</td>\n",
       "      <td>46000</td>\n",
       "      <td>Petrol</td>\n",
       "      <td>Manual</td>\n",
       "      <td>First</td>\n",
       "      <td>18.2 kmpl</td>\n",
       "      <td>1199 CC</td>\n",
       "      <td>88.7 bhp</td>\n",
       "      <td>5.0</td>\n",
       "      <td>8.61 Lakh</td>\n",
       "      <td>4.50</td>\n",
       "    </tr>\n",
       "  </tbody>\n",
       "</table>\n",
       "</div>"
      ],
      "text/plain": [
       "   Unnamed: 0                              Name Location  Year  \\\n",
       "0           0            Maruti Wagon R LXI CNG   Mumbai  2010   \n",
       "1           1  Hyundai Creta 1.6 CRDi SX Option     Pune  2015   \n",
       "2           2                      Honda Jazz V  Chennai  2011   \n",
       "\n",
       "   Kilometers_Driven Fuel_Type Transmission Owner_Type     Mileage   Engine  \\\n",
       "0              72000       CNG       Manual      First  26.6 km/kg   998 CC   \n",
       "1              41000    Diesel       Manual      First  19.67 kmpl  1582 CC   \n",
       "2              46000    Petrol       Manual      First   18.2 kmpl  1199 CC   \n",
       "\n",
       "       Power  Seats  New_Price  Price  \n",
       "0  58.16 bhp    5.0        NaN   1.75  \n",
       "1  126.2 bhp    5.0        NaN  12.50  \n",
       "2   88.7 bhp    5.0  8.61 Lakh   4.50  "
      ]
     },
     "execution_count": 30,
     "metadata": {},
     "output_type": "execute_result"
    }
   ],
   "source": [
    "# 중고차 가격예측\n",
    "import numpy as np\n",
    "import pandas as pd\n",
    "import seaborn as sns\n",
    "import matplotlib.pyplot as plt\n",
    "import numpy as np\n",
    "\n",
    "from sklearn.neighbors import KNeighborsClassifier\n",
    "from sklearn.ensemble import RandomForestClassifier\n",
    "from sklearn.ensemble import AdaBoostClassifier\n",
    "from sklearn.tree import DecisionTreeClassifier\n",
    "from sklearn.linear_model import LogisticRegression\n",
    "\n",
    "from sklearn.datasets import load_breast_cancer\n",
    "from sklearn.model_selection import train_test_split\n",
    "from sklearn.metrics import accuracy_score\n",
    "\n",
    "%matplotlib inline\n",
    "\n",
    "import warnings\n",
    "warnings.filterwarnings(\"ignore\", category=RuntimeWarning)\n",
    "\n",
    "df= pd.read_csv('used_car_train-data.csv')\n",
    "print(df.shape)\n",
    "df.head(3)"
   ]
  },
  {
   "cell_type": "code",
   "execution_count": 31,
   "id": "2b1f2f57",
   "metadata": {},
   "outputs": [
    {
     "name": "stdout",
     "output_type": "stream",
     "text": [
      "<class 'pandas.core.frame.DataFrame'>\n",
      "RangeIndex: 6019 entries, 0 to 6018\n",
      "Data columns (total 14 columns):\n",
      " #   Column             Non-Null Count  Dtype  \n",
      "---  ------             --------------  -----  \n",
      " 0   Unnamed: 0         6019 non-null   int64  \n",
      " 1   Name               6019 non-null   object \n",
      " 2   Location           6019 non-null   object \n",
      " 3   Year               6019 non-null   int64  \n",
      " 4   Kilometers_Driven  6019 non-null   int64  \n",
      " 5   Fuel_Type          6019 non-null   object \n",
      " 6   Transmission       6019 non-null   object \n",
      " 7   Owner_Type         6019 non-null   object \n",
      " 8   Mileage            6017 non-null   object \n",
      " 9   Engine             5983 non-null   object \n",
      " 10  Power              5983 non-null   object \n",
      " 11  Seats              5977 non-null   float64\n",
      " 12  New_Price          824 non-null    object \n",
      " 13  Price              6019 non-null   float64\n",
      "dtypes: float64(2), int64(3), object(9)\n",
      "memory usage: 658.5+ KB\n"
     ]
    }
   ],
   "source": [
    "df.info()"
   ]
  },
  {
   "cell_type": "markdown",
   "id": "d2230f3d",
   "metadata": {},
   "source": [
    "## 1. 데이터 전처리\n",
    "### (1) Year를 datetime 형식으로 변환하기"
   ]
  },
  {
   "cell_type": "code",
   "execution_count": 32,
   "id": "8bef00f2",
   "metadata": {},
   "outputs": [
    {
     "data": {
      "text/html": [
       "<div>\n",
       "<style scoped>\n",
       "    .dataframe tbody tr th:only-of-type {\n",
       "        vertical-align: middle;\n",
       "    }\n",
       "\n",
       "    .dataframe tbody tr th {\n",
       "        vertical-align: top;\n",
       "    }\n",
       "\n",
       "    .dataframe thead th {\n",
       "        text-align: right;\n",
       "    }\n",
       "</style>\n",
       "<table border=\"1\" class=\"dataframe\">\n",
       "  <thead>\n",
       "    <tr style=\"text-align: right;\">\n",
       "      <th></th>\n",
       "      <th>Unnamed: 0</th>\n",
       "      <th>Name</th>\n",
       "      <th>Location</th>\n",
       "      <th>Year</th>\n",
       "      <th>Kilometers_Driven</th>\n",
       "      <th>Fuel_Type</th>\n",
       "      <th>Transmission</th>\n",
       "      <th>Owner_Type</th>\n",
       "      <th>Mileage</th>\n",
       "      <th>Engine</th>\n",
       "      <th>Power</th>\n",
       "      <th>Seats</th>\n",
       "      <th>New_Price</th>\n",
       "      <th>Price</th>\n",
       "    </tr>\n",
       "  </thead>\n",
       "  <tbody>\n",
       "    <tr>\n",
       "      <th>0</th>\n",
       "      <td>0</td>\n",
       "      <td>Maruti Wagon R LXI CNG</td>\n",
       "      <td>Mumbai</td>\n",
       "      <td>1970</td>\n",
       "      <td>72000</td>\n",
       "      <td>CNG</td>\n",
       "      <td>Manual</td>\n",
       "      <td>First</td>\n",
       "      <td>26.6 km/kg</td>\n",
       "      <td>998 CC</td>\n",
       "      <td>58.16 bhp</td>\n",
       "      <td>5.0</td>\n",
       "      <td>NaN</td>\n",
       "      <td>1.75</td>\n",
       "    </tr>\n",
       "    <tr>\n",
       "      <th>1</th>\n",
       "      <td>1</td>\n",
       "      <td>Hyundai Creta 1.6 CRDi SX Option</td>\n",
       "      <td>Pune</td>\n",
       "      <td>1970</td>\n",
       "      <td>41000</td>\n",
       "      <td>Diesel</td>\n",
       "      <td>Manual</td>\n",
       "      <td>First</td>\n",
       "      <td>19.67 kmpl</td>\n",
       "      <td>1582 CC</td>\n",
       "      <td>126.2 bhp</td>\n",
       "      <td>5.0</td>\n",
       "      <td>NaN</td>\n",
       "      <td>12.50</td>\n",
       "    </tr>\n",
       "    <tr>\n",
       "      <th>2</th>\n",
       "      <td>2</td>\n",
       "      <td>Honda Jazz V</td>\n",
       "      <td>Chennai</td>\n",
       "      <td>1970</td>\n",
       "      <td>46000</td>\n",
       "      <td>Petrol</td>\n",
       "      <td>Manual</td>\n",
       "      <td>First</td>\n",
       "      <td>18.2 kmpl</td>\n",
       "      <td>1199 CC</td>\n",
       "      <td>88.7 bhp</td>\n",
       "      <td>5.0</td>\n",
       "      <td>8.61 Lakh</td>\n",
       "      <td>4.50</td>\n",
       "    </tr>\n",
       "  </tbody>\n",
       "</table>\n",
       "</div>"
      ],
      "text/plain": [
       "   Unnamed: 0                              Name Location  Year  \\\n",
       "0           0            Maruti Wagon R LXI CNG   Mumbai  1970   \n",
       "1           1  Hyundai Creta 1.6 CRDi SX Option     Pune  1970   \n",
       "2           2                      Honda Jazz V  Chennai  1970   \n",
       "\n",
       "   Kilometers_Driven Fuel_Type Transmission Owner_Type     Mileage   Engine  \\\n",
       "0              72000       CNG       Manual      First  26.6 km/kg   998 CC   \n",
       "1              41000    Diesel       Manual      First  19.67 kmpl  1582 CC   \n",
       "2              46000    Petrol       Manual      First   18.2 kmpl  1199 CC   \n",
       "\n",
       "       Power  Seats  New_Price  Price  \n",
       "0  58.16 bhp    5.0        NaN   1.75  \n",
       "1  126.2 bhp    5.0        NaN  12.50  \n",
       "2   88.7 bhp    5.0  8.61 Lakh   4.50  "
      ]
     },
     "execution_count": 32,
     "metadata": {},
     "output_type": "execute_result"
    }
   ],
   "source": [
    "# 문자열을 datetime 타입으로 변경. \n",
    "df['Year'] = df.Year.apply(pd.to_datetime)\n",
    "\n",
    "# datetime 타입에서 년, 월, 일, 시간 추출\n",
    "df['Year'] = df.Year.apply(lambda x : x.year)\n",
    "df.head(3)"
   ]
  },
  {
   "cell_type": "markdown",
   "id": "1b25afe8",
   "metadata": {},
   "source": [
    "### (2) 'Unnamed: 0','New_Price', 'Transmission', 'Engine', 'Seats', 'Power' 칼럼 삭제하기"
   ]
  },
  {
   "cell_type": "code",
   "execution_count": 33,
   "id": "f149388e",
   "metadata": {},
   "outputs": [],
   "source": [
    "drop_columns = ['Unnamed: 0','New_Price', 'Transmission', 'Engine', 'Seats', 'Power']\n",
    "df.drop(drop_columns, axis=1,inplace=True)"
   ]
  },
  {
   "cell_type": "markdown",
   "id": "76923dd2",
   "metadata": {},
   "source": [
    "## Name과 Mileage 필요한 부분만 추출하기"
   ]
  },
  {
   "cell_type": "code",
   "execution_count": 34,
   "id": "3518344f",
   "metadata": {},
   "outputs": [
    {
     "data": {
      "text/html": [
       "<div>\n",
       "<style scoped>\n",
       "    .dataframe tbody tr th:only-of-type {\n",
       "        vertical-align: middle;\n",
       "    }\n",
       "\n",
       "    .dataframe tbody tr th {\n",
       "        vertical-align: top;\n",
       "    }\n",
       "\n",
       "    .dataframe thead th {\n",
       "        text-align: right;\n",
       "    }\n",
       "</style>\n",
       "<table border=\"1\" class=\"dataframe\">\n",
       "  <thead>\n",
       "    <tr style=\"text-align: right;\">\n",
       "      <th></th>\n",
       "      <th>Name</th>\n",
       "      <th>Location</th>\n",
       "      <th>Year</th>\n",
       "      <th>Kilometers_Driven</th>\n",
       "      <th>Fuel_Type</th>\n",
       "      <th>Owner_Type</th>\n",
       "      <th>Mileage</th>\n",
       "      <th>Price</th>\n",
       "    </tr>\n",
       "  </thead>\n",
       "  <tbody>\n",
       "    <tr>\n",
       "      <th>0</th>\n",
       "      <td>Maruti</td>\n",
       "      <td>Mumbai</td>\n",
       "      <td>1970</td>\n",
       "      <td>72000</td>\n",
       "      <td>CNG</td>\n",
       "      <td>First</td>\n",
       "      <td>26.6</td>\n",
       "      <td>1.75</td>\n",
       "    </tr>\n",
       "    <tr>\n",
       "      <th>1</th>\n",
       "      <td>Hyundai</td>\n",
       "      <td>Pune</td>\n",
       "      <td>1970</td>\n",
       "      <td>41000</td>\n",
       "      <td>Diesel</td>\n",
       "      <td>First</td>\n",
       "      <td>19.67</td>\n",
       "      <td>12.50</td>\n",
       "    </tr>\n",
       "    <tr>\n",
       "      <th>2</th>\n",
       "      <td>Honda</td>\n",
       "      <td>Chennai</td>\n",
       "      <td>1970</td>\n",
       "      <td>46000</td>\n",
       "      <td>Petrol</td>\n",
       "      <td>First</td>\n",
       "      <td>18.2</td>\n",
       "      <td>4.50</td>\n",
       "    </tr>\n",
       "  </tbody>\n",
       "</table>\n",
       "</div>"
      ],
      "text/plain": [
       "      Name Location  Year  Kilometers_Driven Fuel_Type Owner_Type Mileage  \\\n",
       "0   Maruti   Mumbai  1970              72000       CNG      First    26.6   \n",
       "1  Hyundai     Pune  1970              41000    Diesel      First   19.67   \n",
       "2    Honda  Chennai  1970              46000    Petrol      First    18.2   \n",
       "\n",
       "   Price  \n",
       "0   1.75  \n",
       "1  12.50  \n",
       "2   4.50  "
      ]
     },
     "execution_count": 34,
     "metadata": {},
     "output_type": "execute_result"
    }
   ],
   "source": [
    "names = list(df.Name)\n",
    "mileage = list(df.Mileage)\n",
    "\n",
    "for i in range(len(names)):\n",
    "    names[i] = names[i].split(' ')[0]\n",
    "df.Name =names\n",
    "\n",
    "for i in range(len(names)):\n",
    "    mileage[i] = str(mileage[i]).split(' ')[0]   \n",
    "df.Mileage= mileage\n",
    "\n",
    "df.head(3)"
   ]
  },
  {
   "cell_type": "markdown",
   "id": "ec3ac304",
   "metadata": {},
   "source": [
    "### (3) Price, Kilometers_Driven, Mileage float 형으로 변환하기"
   ]
  },
  {
   "cell_type": "code",
   "execution_count": 35,
   "id": "2baa0911",
   "metadata": {},
   "outputs": [],
   "source": [
    "df['Price'] = df['Price'].astype(float)\n",
    "df['Kilometers_Driven'] = df['Kilometers_Driven'].astype(float)\n",
    "df['Mileage'] = df['Mileage'].astype(float)"
   ]
  },
  {
   "cell_type": "markdown",
   "id": "77044f03",
   "metadata": {},
   "source": [
    "### (4) null 값 없애기"
   ]
  },
  {
   "cell_type": "code",
   "execution_count": 36,
   "id": "4b5578c7",
   "metadata": {},
   "outputs": [
    {
     "name": "stdout",
     "output_type": "stream",
     "text": [
      "<class 'pandas.core.frame.DataFrame'>\n",
      "RangeIndex: 6019 entries, 0 to 6018\n",
      "Data columns (total 8 columns):\n",
      " #   Column             Non-Null Count  Dtype  \n",
      "---  ------             --------------  -----  \n",
      " 0   Name               6019 non-null   object \n",
      " 1   Location           6019 non-null   object \n",
      " 2   Year               6019 non-null   int64  \n",
      " 3   Kilometers_Driven  6019 non-null   float64\n",
      " 4   Fuel_Type          6019 non-null   object \n",
      " 5   Owner_Type         6019 non-null   object \n",
      " 6   Mileage            6017 non-null   float64\n",
      " 7   Price              6019 non-null   float64\n",
      "dtypes: float64(3), int64(1), object(4)\n",
      "memory usage: 376.3+ KB\n"
     ]
    }
   ],
   "source": [
    "df.info()"
   ]
  },
  {
   "cell_type": "code",
   "execution_count": 37,
   "id": "b76f6681",
   "metadata": {},
   "outputs": [
    {
     "name": "stdout",
     "output_type": "stream",
     "text": [
      "<class 'numpy.ndarray'>\n"
     ]
    },
    {
     "data": {
      "text/plain": [
       "array(['Mileage'], dtype='<U7')"
      ]
     },
     "execution_count": 37,
     "metadata": {},
     "output_type": "execute_result"
    }
   ],
   "source": [
    "null_names = np.array([ i for i in df.isna().sum().index if df.isna().sum()[i] !=0 ])\n",
    "\n",
    "print(type(null_names))\n",
    "null_names"
   ]
  },
  {
   "cell_type": "code",
   "execution_count": 38,
   "id": "9ad26e91",
   "metadata": {},
   "outputs": [],
   "source": [
    "for null_name in null_names:\n",
    "    df[null_name].fillna(df[null_name].mean(), inplace=True)"
   ]
  },
  {
   "cell_type": "code",
   "execution_count": 39,
   "id": "6f86a554",
   "metadata": {},
   "outputs": [
    {
     "name": "stdout",
     "output_type": "stream",
     "text": [
      "<class 'pandas.core.frame.DataFrame'>\n",
      "RangeIndex: 6019 entries, 0 to 6018\n",
      "Data columns (total 8 columns):\n",
      " #   Column             Non-Null Count  Dtype  \n",
      "---  ------             --------------  -----  \n",
      " 0   Name               6019 non-null   object \n",
      " 1   Location           6019 non-null   object \n",
      " 2   Year               6019 non-null   int64  \n",
      " 3   Kilometers_Driven  6019 non-null   float64\n",
      " 4   Fuel_Type          6019 non-null   object \n",
      " 5   Owner_Type         6019 non-null   object \n",
      " 6   Mileage            6019 non-null   float64\n",
      " 7   Price              6019 non-null   float64\n",
      "dtypes: float64(3), int64(1), object(4)\n",
      "memory usage: 376.3+ KB\n"
     ]
    }
   ],
   "source": [
    "df.info()"
   ]
  },
  {
   "cell_type": "markdown",
   "id": "7fff434d",
   "metadata": {},
   "source": [
    "### (5) get_dummise를 이용해서 'Year', 'Name','Location', 'Fuel_Type', 'Owner_Type' 인코딩하기"
   ]
  },
  {
   "cell_type": "code",
   "execution_count": 40,
   "id": "91a179b2",
   "metadata": {},
   "outputs": [],
   "source": [
    "from sklearn.model_selection import train_test_split , GridSearchCV\n",
    "from sklearn.linear_model import LinearRegression , Ridge , Lasso\n",
    "\n",
    "y_target = df['Price']\n",
    "X_features = df.drop(['Price'],axis=1,inplace=False)\n",
    "\n",
    "X_features_ohe = pd.get_dummies(X_features, columns=['Year', 'Name','Location', 'Fuel_Type', 'Owner_Type'])"
   ]
  },
  {
   "cell_type": "markdown",
   "id": "c91f0b10",
   "metadata": {},
   "source": [
    "## 2. 사이킷런의 LinearRegression 객체를 이용해서 회귀 예측하기"
   ]
  },
  {
   "cell_type": "code",
   "execution_count": 41,
   "id": "53e2a1ab",
   "metadata": {},
   "outputs": [],
   "source": [
    "from sklearn.metrics import mean_squared_error, mean_absolute_error\n",
    "\n",
    "# log 값 변환 시 NaN등의 이슈로 log() 가 아닌 log1p() 를 이용하여 RMSLE 계산\n",
    "def rmsle(y, pred):\n",
    "    log_y = np.log1p(y)\n",
    "    log_pred = np.log1p(pred)\n",
    "    squared_error = (log_y - log_pred) ** 2\n",
    "    rmsle = np.sqrt(np.mean(squared_error))\n",
    "    return rmsle\n",
    "\n",
    "# 사이킷런의 mean_square_error() 를 이용하여 RMSE 계산\n",
    "def rmse(y,pred):\n",
    "    return np.sqrt(mean_squared_error(y,pred))\n",
    "\n",
    "# MSE, RMSE, RMSLE 를 모두 계산 \n",
    "def evaluate_regr(y,pred):\n",
    "    rmsle_val = rmsle(y,pred)\n",
    "    rmse_val = rmse(y,pred)\n",
    "    # MAE 는 scikit learn의 mean_absolute_error() 로 계산\n",
    "    mae_val = mean_absolute_error(y,pred)\n",
    "    print('RMSLE: {0:.3f}, RMSE: {1:.3F}, MAE: {2:.3F}'.format(rmsle_val, rmse_val, mae_val))"
   ]
  },
  {
   "cell_type": "code",
   "execution_count": 42,
   "id": "4e37c922",
   "metadata": {},
   "outputs": [
    {
     "name": "stdout",
     "output_type": "stream",
     "text": [
      "RMSLE: 0.510, RMSE: 7.416, MAE: 3.898\n"
     ]
    }
   ],
   "source": [
    "X_train, X_test, y_train, y_test = train_test_split(X_features_ohe, y_target, test_size=0.3, random_state=0)\n",
    "\n",
    "lr_reg = LinearRegression()\n",
    "lr_reg.fit(X_train, y_train)\n",
    "pred = lr_reg.predict(X_test)\n",
    "\n",
    "evaluate_regr(y_test ,pred)"
   ]
  },
  {
   "cell_type": "markdown",
   "id": "503eb020",
   "metadata": {},
   "source": [
    "## 3. Target 값인 Price가 정규 분포를 이루는지 확인하기.\n",
    "## 왜곡되어 있다면, 로그를 적용해서 변환해주기"
   ]
  },
  {
   "cell_type": "code",
   "execution_count": 43,
   "id": "da7b7ae6",
   "metadata": {},
   "outputs": [
    {
     "name": "stdout",
     "output_type": "stream",
     "text": [
      "      real_count  predicted_count    diff\n",
      "1495      120.00              9.0  111.00\n",
      "1514       93.00             26.0   67.00\n",
      "1059       93.67             28.0   65.67\n",
      "411        85.00             25.0   60.00\n",
      "1786       97.07             43.0   54.07\n"
     ]
    }
   ],
   "source": [
    "def get_top_error_data(y_test, pred, n_tops = 5):\n",
    "    # DataFrame에 컬럼들로 실제 대여횟수(count)와 예측 값을 서로 비교 할 수 있도록 생성. \n",
    "    result_df = pd.DataFrame(y_test.values, columns=['real_count'])\n",
    "    result_df['predicted_count']= np.round(pred)\n",
    "    result_df['diff'] = np.abs(result_df['real_count'] - result_df['predicted_count'])\n",
    "    # 예측값과 실제값이 가장 큰 데이터 순으로 출력. \n",
    "    print(result_df.sort_values('diff', ascending=False)[:n_tops])\n",
    "    \n",
    "get_top_error_data(y_test,pred,n_tops=5)"
   ]
  },
  {
   "cell_type": "code",
   "execution_count": 44,
   "id": "d912e274",
   "metadata": {},
   "outputs": [
    {
     "data": {
      "text/plain": [
       "<AxesSubplot:>"
      ]
     },
     "execution_count": 44,
     "metadata": {},
     "output_type": "execute_result"
    },
    {
     "data": {
      "image/png": "[encoded data removed]",
      "text/plain": [
       "<Figure size 432x288 with 1 Axes>"
      ]
     },
     "metadata": {
      "needs_background": "light"
     },
     "output_type": "display_data"
    }
   ],
   "source": [
    "y_target.hist()"
   ]
  },
  {
   "cell_type": "code",
   "execution_count": 45,
   "id": "4d21081f",
   "metadata": {},
   "outputs": [
    {
     "data": {
      "text/plain": [
       "<AxesSubplot:>"
      ]
     },
     "execution_count": 45,
     "metadata": {},
     "output_type": "execute_result"
    },
    {
     "data": {
      "image/png": "[encoded data removed]",
      "text/plain": [
       "<Figure size 432x288 with 1 Axes>"
      ]
     },
     "metadata": {
      "needs_background": "light"
     },
     "output_type": "display_data"
    }
   ],
   "source": [
    "y_log_transform = np.log1p(y_target)\n",
    "y_log_transform.hist()"
   ]
  },
  {
   "cell_type": "markdown",
   "id": "9c3aeaf2",
   "metadata": {},
   "source": [
    "## 4. 변환한 값을 가지고 다시 사이킷런의 LinearRegression, Ridge, Lasso 객체들를 이용해서 학습학하고 예측 성능 확인하기"
   ]
  },
  {
   "cell_type": "code",
   "execution_count": 46,
   "id": "b1133daf",
   "metadata": {},
   "outputs": [
    {
     "name": "stdout",
     "output_type": "stream",
     "text": [
      "### LinearRegression ###\n",
      "RMSLE: 0.413, RMSE: 7.468, MAE: 3.571\n",
      "### Ridge ###\n",
      "RMSLE: 0.414, RMSE: 7.417, MAE: 3.544\n",
      "### Lasso ###\n",
      "RMSLE: 0.490, RMSE: 8.684, MAE: 4.162\n"
     ]
    }
   ],
   "source": [
    "# 타겟 컬럼인 count 값을 log1p 로 Log 변환\n",
    "y_target_log = np.log1p(y_target)\n",
    "\n",
    "X_train, X_test, y_train, y_test = train_test_split(X_features_ohe, y_target_log, test_size=0.3, random_state=0)\n",
    "\n",
    "# 모델과 학습/테스트 데이터 셋을 입력하면 성능 평가 수치를 반환\n",
    "def get_model_predict(model, X_train, X_test, y_train, y_test, is_expm1=False):\n",
    "    model.fit(X_train, y_train)\n",
    "    pred = model.predict(X_test)\n",
    "    if is_expm1 :\n",
    "        y_test = np.expm1(y_test)\n",
    "        pred = np.expm1(pred)\n",
    "    print('###',model.__class__.__name__,'###')\n",
    "    evaluate_regr(y_test, pred)\n",
    "# end of function get_model_predict    \n",
    "\n",
    "# model 별로 평가 수행\n",
    "lr_reg = LinearRegression()\n",
    "ridge_reg = Ridge(alpha=10)\n",
    "lasso_reg = Lasso(alpha=0.01)\n",
    "\n",
    "for model in [lr_reg, ridge_reg, lasso_reg]:\n",
    "    get_model_predict(model,X_train, X_test, y_train, y_test,is_expm1=True)"
   ]
  },
  {
   "cell_type": "markdown",
   "id": "1c128814",
   "metadata": {},
   "source": [
    "## 회귀계수 시각화"
   ]
  },
  {
   "cell_type": "code",
   "execution_count": 47,
   "id": "f5367a64",
   "metadata": {},
   "outputs": [
    {
     "data": {
      "text/plain": [
       "<AxesSubplot:>"
      ]
     },
     "execution_count": 47,
     "metadata": {},
     "output_type": "execute_result"
    },
    {
     "data": {
      "image/png": "[encoded data removed]",
      "text/plain": [
       "<Figure size 432x288 with 1 Axes>"
      ]
     },
     "metadata": {
      "needs_background": "light"
     },
     "output_type": "display_data"
    }
   ],
   "source": [
    "coef = pd.Series(lr_reg.coef_ , index=X_features_ohe.columns)\n",
    "coef_sort = coef.sort_values(ascending=False)[:20]\n",
    "sns.barplot(x=coef_sort.values , y=coef_sort.index)"
   ]
  },
  {
   "cell_type": "markdown",
   "id": "3e3d7c08",
   "metadata": {},
   "source": [
    "## 5. 변환한 값을 가지고 회귀 트리인 랜덤 포레스트, GBM, XGBoost, LightGBM을 순차적으로 성능 평가해보기"
   ]
  },
  {
   "cell_type": "code",
   "execution_count": 48,
   "id": "69ca168f",
   "metadata": {},
   "outputs": [
    {
     "name": "stdout",
     "output_type": "stream",
     "text": [
      "### RandomForestRegressor ###\n",
      "RMSLE: 0.335, RMSE: 6.535, MAE: 2.734\n",
      "### GradientBoostingRegressor ###\n",
      "RMSLE: 0.311, RMSE: 6.263, MAE: 2.623\n",
      "### XGBRegressor ###\n",
      "RMSLE: 0.301, RMSE: 5.942, MAE: 2.478\n",
      "### LGBMRegressor ###\n",
      "RMSLE: 0.309, RMSE: 6.215, MAE: 2.648\n"
     ]
    }
   ],
   "source": [
    "from sklearn.ensemble import RandomForestRegressor, GradientBoostingRegressor\n",
    "from xgboost import XGBRegressor\n",
    "from lightgbm import LGBMRegressor\n",
    "\n",
    "# 랜덤 포레스트, GBM, XGBoost, LightGBM model 별로 평가 수행\n",
    "rf_reg = RandomForestRegressor(n_estimators=500)\n",
    "gbm_reg = GradientBoostingRegressor(n_estimators=500)\n",
    "xgb_reg = XGBRegressor(n_estimators=500)\n",
    "lgbm_reg = LGBMRegressor(n_estimators=500)\n",
    "\n",
    "for model in [rf_reg, gbm_reg, xgb_reg, lgbm_reg]:\n",
    "    # XGBoost의 경우 DataFrame이 입력 될 경우 버전에 따라 오류 발생 가능. ndarray로 변환.\n",
    "    get_model_predict(model,X_train.values, X_test.values, y_train.values, y_test.values,is_expm1=True)"
   ]
  },
  {
   "cell_type": "code",
   "execution_count": 69,
   "id": "f9565523",
   "metadata": {},
   "outputs": [
    {
     "name": "stdout",
     "output_type": "stream",
     "text": [
      "랜덤 포레스트: 80\n",
      "GBM: 83\n",
      "XGBoost: 84\n",
      "LightGBM: 83\n"
     ]
    }
   ],
   "source": [
    "rf_reg.fit(X_train,y_train)\n",
    "xgb_reg.fit(X_train, y_train)\n",
    "gbm_reg.fit(X_train,y_train)\n",
    "lgbm_reg.fit(X_train,y_train)\n",
    "print(\"랜덤 포레스트:\", round(rf_reg.score(X_test, y_test)*100))\n",
    "print(\"GBM:\", round(gbm_reg.score(X_test, y_test)*100))\n",
    "print(\"XGBoost:\", round(xgb_reg.score(X_test, y_test)*100))\n",
    "print(\"LightGBM:\",round(lgbm_reg.score(X_test, y_test)*100))"
   ]
  }
 ],
 "metadata": {
  "kernelspec": {
   "display_name": "Python 3",
   "language": "python",
   "name": "python3"
  },
  "language_info": {
   "codemirror_mode": {
    "name": "ipython",
    "version": 3
   },
   "file_extension": ".py",
   "mimetype": "text/x-python",
   "name": "python",
   "nbconvert_exporter": "python",
   "pygments_lexer": "ipython3",
   "version": "3.8.8"
  }
 },
 "nbformat": 4,
 "nbformat_minor": 5
}
